{
 "cells": [
  {
   "cell_type": "code",
   "execution_count": 6,
   "id": "b945e468",
   "metadata": {},
   "outputs": [
    {
     "name": "stdout",
     "output_type": "stream",
     "text": [
      "Enter the starting frequency point: 100\n",
      "Enter the ending frequency point: 10000\n",
      "Enter the number of octaves (6, 12, 24, or 48): 12\n",
      "Frequency Data:\n",
      "       Frequency\n",
      "0     100.000000\n",
      "1     105.946309\n",
      "2     112.246205\n",
      "3     118.920712\n",
      "4     125.992105\n",
      "..           ...\n",
      "76   8063.494719\n",
      "77   8542.975067\n",
      "78   9050.966799\n",
      "79   9589.165292\n",
      "80  10000.000000\n",
      "\n",
      "[81 rows x 1 columns]\n",
      "Do you want to save the data to Excel? (yes/no): y\n",
      "Enter the file path to save the Excel file (include .xlsx extension): C:\\Users\\jemin\\Downloads\\Data_points\\freq_points_12.xlsx\n",
      "Data saved to Excel successfully.\n"
     ]
    }
   ],
   "source": [
    "import pandas as pd\n",
    "\n",
    "def generate_frequency_data(start_freq, end_freq, num_octaves):\n",
    "    # Calculating the fractional octave scaling factor\n",
    "    scaling_factor = 2 ** (1 / num_octaves)\n",
    "\n",
    "    # Generating frequency points\n",
    "    frequencies = [start_freq]\n",
    "    current_freq = start_freq\n",
    "    while current_freq * scaling_factor <= end_freq:\n",
    "        current_freq *= scaling_factor\n",
    "        frequencies.append(current_freq)\n",
    "\n",
    "    # Appending the end frequency if it's not already included\n",
    "    if frequencies[-1] != end_freq:\n",
    "        frequencies.append(end_freq)\n",
    "\n",
    "    # Creating DataFrame\n",
    "    df = pd.DataFrame({'Frequency': frequencies})\n",
    "\n",
    "    return df\n",
    "\n",
    "def save_to_excel(df):\n",
    "    save_data = input(\"Do you want to save the data to Excel? (yes/no): \")\n",
    "    if save_data.lower() in ['yes', 'y']:\n",
    "        file_path = input(\"Enter the file path to save the Excel file (include .xlsx extension): \")\n",
    "        df.to_excel(file_path, index=False)\n",
    "        print(\"Data saved to Excel successfully.\")\n",
    "    elif save_data.lower() in ['no', 'n']:\n",
    "        print(\"Data not saved.\")\n",
    "\n",
    "# User inputs\n",
    "start_freq = float(input(\"Enter the starting frequency point: \"))\n",
    "end_freq = float(input(\"Enter the ending frequency point: \"))\n",
    "\n",
    "while True:\n",
    "    num_octaves = int(input(\"Enter the number of octaves (6, 12, 24, or 48): \"))\n",
    "    if num_octaves in [6, 12, 24, 48]:\n",
    "        break\n",
    "    else:\n",
    "        print(\"Invalid input. Please enter a valid number of octaves.\")\n",
    "        \n",
    "# Generating frequency data\n",
    "frequency_df = generate_frequency_data(start_freq, end_freq, num_octaves)\n",
    "\n",
    "# Displaying frequency data\n",
    "print(\"Frequency Data:\")\n",
    "print(frequency_df)\n",
    "\n",
    "# Saving data to Excel if requested\n",
    "save_to_excel(frequency_df)\n"
   ]
  },
  {
   "cell_type": "code",
   "execution_count": null,
   "id": "aaaa7ded",
   "metadata": {},
   "outputs": [],
   "source": []
  }
 ],
 "metadata": {
  "kernelspec": {
   "display_name": "Python 3 (ipykernel)",
   "language": "python",
   "name": "python3"
  },
  "language_info": {
   "codemirror_mode": {
    "name": "ipython",
    "version": 3
   },
   "file_extension": ".py",
   "mimetype": "text/x-python",
   "name": "python",
   "nbconvert_exporter": "python",
   "pygments_lexer": "ipython3",
   "version": "3.9.12"
  }
 },
 "nbformat": 4,
 "nbformat_minor": 5
}
